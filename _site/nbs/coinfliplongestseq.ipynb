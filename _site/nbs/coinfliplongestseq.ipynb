{
 "cells": [
  {
   "cell_type": "markdown",
   "metadata": {},
   "source": [
    "# Problem:\n",
    "\n",
    "If we flipped a fair coin 250 times, what is the expected length of the longest sequence of heads?  \n",
    "\n",
    "---\n",
    "\n",
    "Although this problem can be solved analytically, that's not the goal of this post. Problems like this are perfect use cases of Monte Carlo simulations. We won't get to an exact solution this way, however, we can get to a close approximation very fast. That is more often than not a good trade to make.  \n",
    "\n",
    "Let's start by writing a `python` function which generates 250 random numbers, between 0 and 1, with equal probability. Here, 1 encodes `heads` and 0 encodes `tails`."
   ]
  },
  {
   "cell_type": "code",
   "execution_count": 1,
   "metadata": {
    "collapsed": true
   },
   "outputs": [],
   "source": [
    "import numpy as np\n",
    "\n",
    "def game(n=250):\n",
    "    return np.random.randint(0, 2, n)"
   ]
  },
  {
   "cell_type": "markdown",
   "metadata": {},
   "source": [
    "This function takes in a `keyword argument`, `n`, whose default value is 250. We can use it with any other number as well. Let's test it out, with, say, ten flips."
   ]
  },
  {
   "cell_type": "code",
   "execution_count": 2,
   "metadata": {},
   "outputs": [
    {
     "data": {
      "text/plain": [
       "array([1, 1, 1, 1, 1, 1, 1, 1, 1, 1])"
      ]
     },
     "execution_count": 2,
     "metadata": {},
     "output_type": "execute_result"
    }
   ],
   "source": [
    "game(10)"
   ]
  },
  {
   "cell_type": "markdown",
   "metadata": {},
   "source": [
    "Looks like this works. Now, given a sequence of 0s and 1s such as this one above, we need to find how long the **longest sequence of 1s** is. Let's do that by writing another function."
   ]
  },
  {
   "cell_type": "code",
   "execution_count": 3,
   "metadata": {
    "collapsed": true
   },
   "outputs": [],
   "source": [
    "def longest_seq(input_sequence):\n",
    "    s_max, s = 0, 0\n",
    "    for i in input_sequence:\n",
    "        s = s+1 if i else 0\n",
    "        s_max = max(s, s_max)\n",
    "    return s_max"
   ]
  },
  {
   "cell_type": "markdown",
   "metadata": {},
   "source": [
    "Let's do a sanity check;"
   ]
  },
  {
   "cell_type": "code",
   "execution_count": 4,
   "metadata": {},
   "outputs": [
    {
     "name": "stdout",
     "output_type": "stream",
     "text": [
      "attempt 0\n",
      "[1 1 0 1 0 0 1 1 0 0] longest sequence of 1s =  2\n",
      "----------------------------------------\n",
      "attempt 1\n",
      "[1 1 1 1 1 0 0 0 1 0] longest sequence of 1s =  5\n",
      "----------------------------------------\n",
      "attempt 2\n",
      "[1 1 1 1 1 0 1 1 0 1] longest sequence of 1s =  5\n",
      "----------------------------------------\n",
      "attempt 3\n",
      "[0 1 0 1 0 1 1 1 1 0] longest sequence of 1s =  4\n",
      "----------------------------------------\n"
     ]
    }
   ],
   "source": [
    "# Sanity check\n",
    "\n",
    "for i in range(4):\n",
    "    print('attempt %s' % i)\n",
    "    seq = game(10)\n",
    "    print(seq, 'longest sequence of 1s = ', longest_seq(seq))\n",
    "    print('-'*40)"
   ]
  },
  {
   "cell_type": "markdown",
   "metadata": {},
   "source": [
    "It looks good. Now, to get the (approximate) expected value that the question asks, let's do this **a lot of times** and get the average of the length of the longest subsequences."
   ]
  },
  {
   "cell_type": "code",
   "execution_count": 6,
   "metadata": {},
   "outputs": [
    {
     "data": {
      "text/plain": [
       "7.305981"
      ]
     },
     "execution_count": 6,
     "metadata": {},
     "output_type": "execute_result"
    }
   ],
   "source": [
    "N_TRIALS = 10**6  # a million times\n",
    "s = 0\n",
    "for _ in range(N_TRIALS):\n",
    "    seq = game()\n",
    "    s += longest_seq(seq)\n",
    "    \n",
    "s/N_TRIALS"
   ]
  },
  {
   "cell_type": "markdown",
   "metadata": {},
   "source": [
    "Great! So we can expect to have around 7.3 subsequent 1s if we flipped the coin 250 times. It is important to keep in mind that this result is an approximation to the true value. If we wanted to get even closer, we might want to increase the number of trials.\n",
    "\n",
    "---\n",
    "\n",
    "This code can be modified to get other insight into the process of flipping coins, such as, what is the histogram / distribution of length of longest sequence is like? What is the 50 percentile of lengths? How does the longest length of subsequence change with the number of coin flips per game? etc.\n",
    "\n",
    "Below, we plot the kernel density estimation (think of it like a fancy histogram) for the longest subsequence lengths."
   ]
  },
  {
   "cell_type": "code",
   "execution_count": 13,
   "metadata": {},
   "outputs": [
    {
     "data": {
      "text/plain": [
       "<matplotlib.axes._subplots.AxesSubplot at 0x11c9809b0>"
      ]
     },
     "execution_count": 13,
     "metadata": {},
     "output_type": "execute_result"
    },
    {
     "data": {
      "image/png": "[encoded data removed]",
      "text/plain": [
       "<matplotlib.figure.Figure at 0x11c85a940>"
      ]
     },
     "metadata": {},
     "output_type": "display_data"
    }
   ],
   "source": [
    "N_TRIALS = 10**3  # a million times\n",
    "s = []\n",
    "for _ in range(N_TRIALS):\n",
    "    seq = game()\n",
    "    s.append(longest_seq(seq))\n",
    "    \n",
    "\n",
    "import pandas as pd\n",
    "%matplotlib inline\n",
    "\n",
    "\n",
    "pd.Series(s).plot.kde(title='Kernel Density of longest subsequence lengths')"
   ]
  },
  {
   "cell_type": "code",
   "execution_count": null,
   "metadata": {
    "collapsed": true
   },
   "outputs": [],
   "source": []
  }
 ],
 "metadata": {
  "kernelspec": {
   "display_name": "Python 3",
   "language": "python",
   "name": "python3"
  },
  "language_info": {
   "codemirror_mode": {
    "name": "ipython",
    "version": 3
   },
   "file_extension": ".py",
   "mimetype": "text/x-python",
   "name": "python",
   "nbconvert_exporter": "python",
   "pygments_lexer": "ipython3",
   "version": "3.6.1"
  }
 },
 "nbformat": 4,
 "nbformat_minor": 2
}
