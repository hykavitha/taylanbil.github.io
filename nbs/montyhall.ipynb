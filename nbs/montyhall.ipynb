{
 "cells": [
  {
   "cell_type": "markdown",
   "metadata": {},
   "source": [
    "[The Monty Hall problem](https://en.wikipedia.org/wiki/Monty_Hall_problem) is a famous brain teaser, which often is confusing. The problem statement is;  \n",
    "\n",
    "\n",
    "> Suppose you're on a game show, and you're given the choice of three doors: Behind one door is a car; behind the others, goats. You pick a door, say No. 1, and the host, who knows what's behind the doors, opens another door, say No. 3, which has a goat. He then says to you, \"Do you want to pick door No. 2?\" Is it to your advantage to switch your choice?\t\n",
    "\n",
    "At first it seems like since there are only two doors left, it would not matter to switch your pick or not. However, careful reasoning using probability implies it is better to switch your decision at that point.  \n",
    "\n",
    "---\n",
    "\n",
    "In this post, I would like to establish this advantage using a simulation. To that end, here's the pseudocode of 1 game:\n",
    "\n",
    "\n",
    "```python\n",
    "def montyhallgame(switch):\n",
    "    determine where the car is\n",
    "    guest picks a door\n",
    "    host eliminates a door which is not picked and which has a goat\n",
    "    if switch:\n",
    "        switch choice\n",
    "    return success/failure\n",
    "\n",
    "```\n",
    "\n",
    "Once we have this in working code, we can then make the computer play a million games and look at the probability of success if we switch vs if we don't switch.  \n",
    "\n",
    "First things first, let's translate this pseudocode above into python:"
   ]
  },
  {
   "cell_type": "code",
   "execution_count": 35,
   "metadata": {},
   "outputs": [
    {
     "name": "stdout",
     "output_type": "stream",
     "text": [
      "car\n",
      "car\n"
     ]
    }
   ],
   "source": [
    "import random\n",
    "\n",
    "def montyhallgame(switch):\n",
    "    # pick a random index and make that a car\n",
    "    doors = ['goat' for _ in range(3)]\n",
    "    car = random.choice(range(len(doors)))  \n",
    "    doors[car] = 'car'\n",
    "    # Now the guest makes their pick\n",
    "    guest_pick = random.choice(range(len(doors)))\n",
    "    # Now the host...\n",
    "    host_remove_index = random.choice(\n",
    "        [i for i in range(len(doors)) if i != guest_pick and doors[i] == 'goat']\n",
    "    )  # this index points to the door that the host decides to keep in\n",
    "    host_keep_index = [i for i in range(3) if i != guest_pick and i != host_remove_index][0]\n",
    "    if switch:\n",
    "        return doors[host_keep_index]\n",
    "    else:\n",
    "        return doors[guest_pick]\n",
    "    \n",
    "print(montyhallgame(False))\n",
    "print(montyhallgame(True))"
   ]
  },
  {
   "cell_type": "markdown",
   "metadata": {},
   "source": [
    "Allright, now we have a function which tells us what the result of the game is.  \n",
    "\n",
    "Let's play this game a million times with and without switching and see how many goats/cars do we get."
   ]
  },
  {
   "cell_type": "code",
   "execution_count": 36,
   "metadata": {},
   "outputs": [
    {
     "name": "stdout",
     "output_type": "stream",
     "text": [
      "if we switch, out of 1000000 games, we get 666999 wins\n",
      "if we don't switch, out of 1000000 games, we get 333350 wins\n"
     ]
    }
   ],
   "source": [
    "N_TRIALS = 10**6\n",
    "switch_car_count = 0\n",
    "noswitch_car_count = 0\n",
    "\n",
    "for _ in range(N_TRIALS):\n",
    "    switch_car_count += montyhallgame(True) == 'car'\n",
    "    noswitch_car_count += montyhallgame(False) == 'car'\n",
    "\n",
    "print('if we switch, out of {} games, we get {} wins'.format(\n",
    "    N_TRIALS, switch_car_count))\n",
    "print('if we don\\'t switch, out of {} games, we get {} wins'.format(\n",
    "    N_TRIALS, noswitch_car_count))"
   ]
  },
  {
   "cell_type": "markdown",
   "metadata": {},
   "source": [
    "Look at that difference! Switching the decision doubles the guest's win rate! This confirms the theoretical calculation.\n",
    "\n",
    "---\n",
    "\n",
    "Let's make the difference even more striking. Let's modify the above code so that there aren't just 3 doors, but 100 doors, with 99 goats and 1 car. And once the guest picks, the host comes in and removes 98 doors, all with goats behind.\n",
    "\n",
    "We'll write the function a bit more efficiently, encoding car by 1 and goat by 0."
   ]
  },
  {
   "cell_type": "code",
   "execution_count": 47,
   "metadata": {
    "collapsed": true
   },
   "outputs": [],
   "source": [
    "import numpy as np\n",
    "\n",
    "def montyhallgame2(switch, n=100):\n",
    "    car = random.randint(1, n)\n",
    "    guest_pick = random.randint(1, n)\n",
    "    if guest_pick != car:\n",
    "        host_keep = car  # in this case, we can't eliminate the car\n",
    "    else:\n",
    "        # this is our way of deleting the guest_pick from host's options to remove\n",
    "        host_keep = random.randint(1, n-1) \n",
    "        host_keep = host_keep + (host_keep >= guest_pick)\n",
    "    result = host_keep if switch else guest_pick\n",
    "    return result == car"
   ]
  },
  {
   "cell_type": "code",
   "execution_count": 48,
   "metadata": {},
   "outputs": [
    {
     "name": "stdout",
     "output_type": "stream",
     "text": [
      "if we switch, out of 1000000 games, we get 990081 wins\n",
      "if we don't switch, out of 1000000 games, we get 9973 wins\n"
     ]
    }
   ],
   "source": [
    "N_TRIALS = 10**6\n",
    "switch_car_count = 0\n",
    "noswitch_car_count = 0\n",
    "\n",
    "for _ in range(N_TRIALS):\n",
    "    switch_car_count += montyhallgame2(True)\n",
    "    noswitch_car_count += montyhallgame2(False)\n",
    "\n",
    "print('if we switch, out of {} games, we get {} wins'.format(\n",
    "    N_TRIALS, switch_car_count))\n",
    "print('if we don\\'t switch, out of {} games, we get {} wins'.format(\n",
    "    N_TRIALS, noswitch_car_count))"
   ]
  },
  {
   "cell_type": "markdown",
   "metadata": {},
   "source": [
    "Now that is quite a big difference! In the end, it amounts to the following probabilities:  \n",
    "\n",
    "> P(win without switch) = P(guessing right the first time)  \n",
    "\n",
    "> P(win with switch) = P(guessing wrong the first time)"
   ]
  },
  {
   "cell_type": "code",
   "execution_count": null,
   "metadata": {
    "collapsed": true
   },
   "outputs": [],
   "source": []
  }
 ],
 "metadata": {
  "kernelspec": {
   "display_name": "Python 3",
   "language": "python",
   "name": "python3"
  },
  "language_info": {
   "codemirror_mode": {
    "name": "ipython",
    "version": 3
   },
   "file_extension": ".py",
   "mimetype": "text/x-python",
   "name": "python",
   "nbconvert_exporter": "python",
   "pygments_lexer": "ipython3",
   "version": "3.6.1"
  }
 },
 "nbformat": 4,
 "nbformat_minor": 2
}
